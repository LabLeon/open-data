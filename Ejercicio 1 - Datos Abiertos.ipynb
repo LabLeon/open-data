{
 "cells": [
  {
   "cell_type": "markdown",
   "metadata": {},
   "source": [
    "# Manipulación y visualización de datos (básicas)\n",
    "\n",
    "A lo largo de este Jupyter Notebook explicaré algunos básicos sobre manipulación y visualización de datos con Python. Los tópicos específicos a cubrir en este cuaderno interactivo son los siguientes:\n",
    "\n",
    "> - Formatos de datos\n",
    "> - Cargar una base de datos\n",
    "> - Extraer datos de una base\n",
    "> - Estadísticos descriptivos\n",
    "> - Visualizaciones básicas\n",
    "\n",
    "## Repaso rápido a formatos de datos...\n",
    "\n",
    "Puedes consultar la siguiente referencia: <https://5stardata.info/es/>\n",
    "\n",
    "## Cargando una base de datos\n",
    "\n",
    "Para cargar una base de datos, utilizaremos un paquete de Python que resulta muy útil y eficiente, llamado [Pandas](https://pandas.pydata.org). Dado que a los datos podemos encontrarlos en la misma ruta que este cuaderno interactivo, bastará sólo usar la función `.read_excel()` de Pandas."
   ]
  },
  {
   "cell_type": "code",
   "execution_count": 1,
   "metadata": {},
   "outputs": [
    {
     "ename": "AttributeError",
     "evalue": "module 'pandas' has no attribute 'read_excel'",
     "output_type": "error",
     "traceback": [
      "\u001b[0;31m---------------------------------------------------------------------------\u001b[0m",
      "\u001b[0;31mAttributeError\u001b[0m                            Traceback (most recent call last)",
      "\u001b[0;32m<ipython-input-1-2976bb8d5b10>\u001b[0m in \u001b[0;36m<module>\u001b[0;34m\u001b[0m\n\u001b[1;32m      2\u001b[0m \u001b[0;34m\u001b[0m\u001b[0m\n\u001b[1;32m      3\u001b[0m \u001b[0mnombre_de_archivo\u001b[0m \u001b[0;34m=\u001b[0m \u001b[0;34m'puntosconectividadleonjun2019.xlsx'\u001b[0m\u001b[0;34m\u001b[0m\u001b[0;34m\u001b[0m\u001b[0m\n\u001b[0;32m----> 4\u001b[0;31m \u001b[0mdataframe\u001b[0m \u001b[0;34m=\u001b[0m \u001b[0mpandas\u001b[0m\u001b[0;34m.\u001b[0m\u001b[0mread_excel\u001b[0m\u001b[0;34m(\u001b[0m\u001b[0mnombre_de_archivo\u001b[0m\u001b[0;34m)\u001b[0m\u001b[0;34m\u001b[0m\u001b[0;34m\u001b[0m\u001b[0m\n\u001b[0m",
      "\u001b[0;31mAttributeError\u001b[0m: module 'pandas' has no attribute 'read_excel'"
     ]
    }
   ],
   "source": [
    "import pandas\n",
    "\n",
    "nombre_de_archivo = 'puntosconectividadleonjun2019.xlsx' \n",
    "dataframe = pandas.read_excel(nombre_de_archivo)"
   ]
  },
  {
   "cell_type": "markdown",
   "metadata": {},
   "source": [
    "Podemos imprimir toda la base de datos llamando a la variable `dataframe`, o acceder sólo al inicio (o final) de los datos con `.head()` (o `.tail()`)."
   ]
  },
  {
   "cell_type": "code",
   "execution_count": null,
   "metadata": {},
   "outputs": [],
   "source": [
    "dataframe.head()"
   ]
  },
  {
   "cell_type": "markdown",
   "metadata": {},
   "source": [
    "Tanto `.head()` como `.head()` de manera estándar retorna 5 elementos de la tabla de datos, sin embargo pueden recibir como argumento un número entero para devolver esa cantidad de elementos.\n",
    "\n",
    "#### Ejercicio:\n",
    "\n",
    "Haz que las funciones ya mecnionadas devuelvan una cantidad distinta de elementos."
   ]
  },
  {
   "cell_type": "markdown",
   "metadata": {},
   "source": [
    "## Extraer datos de una base\n",
    "\n",
    "Para extraer las cabeceras de una tabla de datos, podemos convertir a lista una tabla misma:"
   ]
  },
  {
   "cell_type": "code",
   "execution_count": null,
   "metadata": {},
   "outputs": [],
   "source": [
    "cabeceras = list(dataframe)\n",
    "cabeceras"
   ]
  },
  {
   "cell_type": "markdown",
   "metadata": {},
   "source": [
    "Si quisiéramos extraer una columna completa de una tabla de datos, podemos utilizar la cabecera como sigue:"
   ]
  },
  {
   "cell_type": "code",
   "execution_count": null,
   "metadata": {},
   "outputs": [],
   "source": [
    "poblacion = dataframe[[ 'POBLACION' ]]\n",
    "poblacion"
   ]
  },
  {
   "cell_type": "markdown",
   "metadata": {},
   "source": [
    "De aquí podemos observar que la extracción de objetos conserva la estructura de la misma tabla de datos, por lo que para transofrmar los valores a formato de lista, utilizamos el atributo `.values`.\n",
    "\n",
    "Una vez transformado en lista podemos utilizar indexación como vimos previamente."
   ]
  },
  {
   "cell_type": "code",
   "execution_count": null,
   "metadata": {},
   "outputs": [],
   "source": [
    "poblacion.values"
   ]
  },
  {
   "cell_type": "markdown",
   "metadata": {},
   "source": [
    "Puedes filtrar datos utilizando condicionales dentro de los corchetes de selección. \n",
    "\n",
    "#### Ejemplo:\n",
    "\n",
    "Si quisiéramos filtrar a los puntos de conectividad que benefician a una población de más de 2000 personas, hacemos:"
   ]
  },
  {
   "cell_type": "code",
   "execution_count": null,
   "metadata": {},
   "outputs": [],
   "source": [
    "dataframe[dataframe['POBLACION'] > 2000]"
   ]
  },
  {
   "cell_type": "markdown",
   "metadata": {},
   "source": [
    "#### Ejercicio:\n",
    "\n",
    "Filtra elementos de acuerdo a la zona, específicamente si es `'rural'`."
   ]
  },
  {
   "cell_type": "markdown",
   "metadata": {},
   "source": [
    "## Estadísticos descriptivos\n",
    "\n",
    "De manera muy general, Pandas ya puede entregarnos un resumen estadístico descriptivo utilizando funciones como `.count()` o `.describe()`. \n",
    "\n",
    "Dichas descripciones contienen elementos estadísticos como la media, mímimos, máximos, [percentiles](https://es.wikipedia.org/wiki/Percentil) y [desviación estándar](https://es.wikipedia.org/wiki/Desviación_típica)."
   ]
  },
  {
   "cell_type": "code",
   "execution_count": null,
   "metadata": {},
   "outputs": [],
   "source": [
    "dataframe.count()"
   ]
  },
  {
   "cell_type": "code",
   "execution_count": null,
   "metadata": {},
   "outputs": [],
   "source": [
    "dataframe.describe()"
   ]
  },
  {
   "cell_type": "markdown",
   "metadata": {},
   "source": [
    "## Visualizaciones básicas\n",
    "\n",
    "Otro paquete que resulta muy útil, para gráficos estadísticos descriptivos, es [Seaborn](https://seaborn.pydata.org)."
   ]
  },
  {
   "cell_type": "code",
   "execution_count": null,
   "metadata": {},
   "outputs": [],
   "source": [
    "import seaborn as sns\n",
    "import matplotlib.pyplot as plt\n",
    "%matplotlib inline\n",
    "sns.set(style=\"darkgrid\")"
   ]
  },
  {
   "cell_type": "code",
   "execution_count": null,
   "metadata": {},
   "outputs": [],
   "source": [
    "plt.figure(figsize=(15, 20))\n",
    "sns.barplot(x=\"POBLACION\", y=\"PUNTO_DE_CONEXION\", data=dataframe,\n",
    "            label=\"Población beneficiada\", color=\"b\")"
   ]
  },
  {
   "cell_type": "markdown",
   "metadata": {},
   "source": [
    "Las visualizaciones y su utilidad dependen un poco de los datos, en este caso, dado que tenemos geo-referenciación, valdría la pena explorar los datos utilizando mapas. 🗺👀"
   ]
  },
  {
   "cell_type": "markdown",
   "metadata": {},
   "source": [
    "Sin embargo, te comparto el siguiente material para que puedas conocer más visualizaciones que resultan útiles:\n",
    "- [La galería de gráficos de Seaborn](https://seaborn.pydata.org/examples/index.html)\n",
    "- [La galería de gráficos en Python](https://python-graph-gallery.com)"
   ]
  }
 ],
 "metadata": {
  "kernelspec": {
   "display_name": "Python 3",
   "language": "python",
   "name": "python3"
  },
  "language_info": {
   "codemirror_mode": {
    "name": "ipython",
    "version": 3
   },
   "file_extension": ".py",
   "mimetype": "text/x-python",
   "name": "python",
   "nbconvert_exporter": "python",
   "pygments_lexer": "ipython3",
   "version": "3.6.10"
  }
 },
 "nbformat": 4,
 "nbformat_minor": 4
}
