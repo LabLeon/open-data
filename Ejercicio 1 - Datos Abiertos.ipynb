{
 "cells": [
  {
   "cell_type": "markdown",
   "metadata": {},
   "source": [
    "# Manipulación y visualización de datos (básicas)\n",
    "\n",
    "A lo largo de este Jupyter Notebook explicaré algunos básicos sobre manipulación y visualización de datos con Python. Los tópicos específicos a cubrir en este cuaderno interactivo son los siguientes:\n",
    "\n",
    "> - Formatos de datos\n",
    "> - Cargar una base de datos\n",
    "> - Extraer datos de una base\n",
    "> - Estadísticos descriptivos\n",
    "> - Visualizaciones básicas\n",
    "\n",
    "## Repaso rápido a formatos de datos...\n",
    "\n",
    "Puedes consultar la siguiente referencia: <https://5stardata.info/es/>\n",
    "\n",
    "## Cargando una base de datos\n",
    "\n",
    "Para cargar una base de datos, utilizaremos un paquete de Python que resulta muy útil y eficiente, llamado [Pandas](https://pandas.pydata.org). Dado que a los datos podemos encontrarlos en la misma ruta que este cuaderno interactivo, bastará sólo usar la función `.read_excel()` de Pandas."
   ]
  },
  {
   "cell_type": "code",
   "execution_count": null,
   "metadata": {
    "scrolled": false
   },
   "outputs": [],
   "source": [
    "import pandas\n",
    "\n",
    "nombre_de_archivo = 'puntosconectividadleonjun2019.xlsx' \n",
    "dataframe = pandas.read_excel(nombre_de_archivo)"
   ]
  },
  {
   "cell_type": "markdown",
   "metadata": {},
   "source": [
    "Podemos imprimir toda la base de datos llamando a la variable `dataframe`, o acceder sólo al inicio (o final) de los datos con `.head()` (o `.tail()`)."
   ]
  },
  {
   "cell_type": "code",
   "execution_count": null,
   "metadata": {},
   "outputs": [],
   "source": [
    "dataframe.head()"
   ]
  },
  {
   "cell_type": "markdown",
   "metadata": {},
   "source": [
    "Tanto `.head()` como `.head()` de manera estándar retorna 5 elementos de la tabla de datos, sin embargo pueden recibir como argumento un número entero para devolver esa cantidad de elementos.\n",
    "\n",
    "#### Ejercicio:\n",
    "\n",
    "Haz que las funciones ya mecnionadas devuelvan una cantidad distinta de elementos."
   ]
  },
  {
   "cell_type": "markdown",
   "metadata": {},
   "source": [
    "## Extraer datos de una base\n",
    "\n",
    "Para extraer las cabeceras de una tabla de datos, podemos convertir a lista una tabla misma:"
   ]
  },
  {
   "cell_type": "code",
   "execution_count": null,
   "metadata": {},
   "outputs": [],
   "source": [
    "cabeceras = list(dataframe)\n",
    "cabeceras"
   ]
  },
  {
   "cell_type": "markdown",
   "metadata": {},
   "source": [
    "Si quisiéramos extraer una columna completa de una tabla de datos, podemos utilizar la cabecera como sigue:"
   ]
  },
  {
   "cell_type": "code",
   "execution_count": null,
   "metadata": {},
   "outputs": [],
   "source": [
    "poblacion = dataframe[[ 'POBLACION' ]]\n",
    "poblacion"
   ]
  },
  {
   "cell_type": "markdown",
   "metadata": {},
   "source": [
    "De aquí podemos observar que la extracción de objetos conserva la estructura de la misma tabla de datos, por lo que para transofrmar los valores a formato de lista, utilizamos el atributo `.values`.\n",
    "\n",
    "Una vez transformado en lista podemos utilizar indexación como vimos previamente."
   ]
  },
  {
   "cell_type": "code",
   "execution_count": null,
   "metadata": {},
   "outputs": [],
   "source": [
    "poblacion.values"
   ]
  },
  {
   "cell_type": "markdown",
   "metadata": {},
   "source": [
    "Puedes filtrar datos utilizando condicionales dentro de los corchetes de selección. \n",
    "\n",
    "#### Ejemplo:\n",
    "\n",
    "Si quisiéramos filtrar a los puntos de conectividad que benefician a una población de más de 2000 personas, hacemos:"
   ]
  },
  {
   "cell_type": "code",
   "execution_count": null,
   "metadata": {},
   "outputs": [],
   "source": [
    "dataframe[dataframe['POBLACION'] > 2000]"
   ]
  },
  {
   "cell_type": "markdown",
   "metadata": {},
   "source": [
    "#### Ejercicio:\n",
    "\n",
    "Filtra elementos de acuerdo a la zona, específicamente si es `'rural'`."
   ]
  },
  {
   "cell_type": "code",
   "execution_count": null,
   "metadata": {},
   "outputs": [],
   "source": [
    "dataframe[dataframe['ZONA'] == 'rural']"
   ]
  },
  {
   "cell_type": "markdown",
   "metadata": {},
   "source": [
    "## Estadísticos descriptivos\n",
    "\n",
    "De manera muy general, Pandas ya puede entregarnos un resumen estadístico descriptivo utilizando funciones como `.count()` o `.describe()`. \n",
    "\n",
    "Dichas descripciones contienen elementos estadísticos como la media, mímimos, máximos, [percentiles](https://es.wikipedia.org/wiki/Percentil) y [desviación estándar](https://es.wikipedia.org/wiki/Desviación_típica)."
   ]
  },
  {
   "cell_type": "code",
   "execution_count": null,
   "metadata": {},
   "outputs": [],
   "source": [
    "dataframe.count()"
   ]
  },
  {
   "cell_type": "code",
   "execution_count": null,
   "metadata": {},
   "outputs": [],
   "source": [
    "dataframe.describe()"
   ]
  },
  {
   "cell_type": "markdown",
   "metadata": {},
   "source": [
    "## Visualizaciones básicas\n",
    "\n",
    "Otro paquete que resulta muy útil, para gráficos estadísticos descriptivos, es [Seaborn](https://seaborn.pydata.org)."
   ]
  },
  {
   "cell_type": "code",
   "execution_count": null,
   "metadata": {},
   "outputs": [],
   "source": [
    "import seaborn as sns\n",
    "import matplotlib.pyplot as plt\n",
    "%matplotlib inline\n",
    "sns.set(style=\"darkgrid\")"
   ]
  },
  {
   "cell_type": "code",
   "execution_count": null,
   "metadata": {},
   "outputs": [],
   "source": [
    "plt.figure(figsize=(15, 20))\n",
    "sns.barplot(x=\"POBLACION\", y=\"PUNTO_DE_CONEXION\", data=dataframe,\n",
    "            label=\"Población beneficiada\", color=\"b\")"
   ]
  },
  {
   "cell_type": "markdown",
   "metadata": {},
   "source": [
    "Las visualizaciones y su utilidad dependen un poco de los datos, en este caso, dado que tenemos geo-referenciación, valdría la pena explorar los datos utilizando mapas. 🗺👀"
   ]
  },
  {
   "cell_type": "markdown",
   "metadata": {},
   "source": [
    "Sin embargo, te comparto el siguiente material para que puedas conocer más visualizaciones que resultan útiles:\n",
    "- [La galería de gráficos de Seaborn](https://seaborn.pydata.org/examples/index.html)\n",
    "- [La galería de gráficos en Python](https://python-graph-gallery.com)"
   ]
  },
  {
   "cell_type": "markdown",
   "metadata": {},
   "source": [
    "## Visualización de mapas\n",
    "\n",
    "Aquí haremos una visualización básica en un mapa de los puntos de conectividad.\n",
    "\n",
    "Extraeremos 3 elementos principales de nustra dataser:\n",
    "\n",
    "- Ubicación georreferenciada.\n",
    "- Nombre de cada punto de conexión.\n",
    "- Población a la que beneficia cada punto de acceso."
   ]
  },
  {
   "cell_type": "code",
   "execution_count": null,
   "metadata": {},
   "outputs": [],
   "source": [
    "# Crea una lista que contenga las latitudes y longitudes \n",
    "lat_long = (dataframe[[ 'LATITUD','LONGITUD' ]]).values \n",
    "lat_long"
   ]
  },
  {
   "cell_type": "code",
   "execution_count": null,
   "metadata": {},
   "outputs": [],
   "source": [
    "# Crea una lista que contenga los puntos de conexión \n",
    "etiquetas = (dataframe[[ 'PUNTO_DE_CONEXION' ]]).values \n",
    "etiquetas"
   ]
  },
  {
   "cell_type": "code",
   "execution_count": null,
   "metadata": {},
   "outputs": [],
   "source": [
    "# Crea una lista que contenga las cantidades de población \n",
    "poblacion = (dataframe[[ 'POBLACION' ]]).values\n",
    "poblacion"
   ]
  },
  {
   "cell_type": "markdown",
   "metadata": {},
   "source": [
    "### Cargar un mapa"
   ]
  },
  {
   "cell_type": "code",
   "execution_count": null,
   "metadata": {},
   "outputs": [],
   "source": [
    "# Cargamos un mapa básico\n",
    "import folium\n",
    "    \n",
    "mapa_leon = folium.Map(\n",
    "                location=[21.1191877,-101.6737528],\n",
    "                zoom_start=13\n",
    "            )"
   ]
  },
  {
   "cell_type": "code",
   "execution_count": null,
   "metadata": {},
   "outputs": [],
   "source": [
    "mapa_leon"
   ]
  },
  {
   "cell_type": "markdown",
   "metadata": {},
   "source": [
    "### Añadir marcadores a un mapa\n",
    "Para añadir marcadores a un mapa, basta crear un objeto Marker de Folium. Éste cuenta con argumentos que permiten personalizar el estilo del marcador, como:\n",
    "\n",
    "- location=[45.3300, -121.6823],\n",
    "- popup='Some Other Location',\n",
    "- icon=folium.Icon(color='red', icon='info-sign')"
   ]
  },
  {
   "cell_type": "code",
   "execution_count": null,
   "metadata": {},
   "outputs": [],
   "source": [
    "# Añadimos los marcadores\n",
    "for i in range(len(etiquetas)): \n",
    "    folium.Marker(lat_long[i],\n",
    "                  popup=f\"Población beneficiada: {poblacion[i][0]} personas\",\n",
    "                  tooltip=etiquetas[i][0],\n",
    "                  icon=folium.Icon(color='cadetblue', prefix='fa', icon=\"wifi\")\n",
    "                  ).add_to(mapa_leon)"
   ]
  },
  {
   "cell_type": "code",
   "execution_count": null,
   "metadata": {},
   "outputs": [],
   "source": [
    "# Imprimimos el mapa\n",
    "mapa_leon"
   ]
  }
 ],
 "metadata": {
  "kernelspec": {
   "display_name": "Python 3",
   "language": "python",
   "name": "python3"
  },
  "language_info": {
   "codemirror_mode": {
    "name": "ipython",
    "version": 3
   },
   "file_extension": ".py",
   "mimetype": "text/x-python",
   "name": "python",
   "nbconvert_exporter": "python",
   "pygments_lexer": "ipython3",
   "version": "3.6.10"
  }
 },
 "nbformat": 4,
 "nbformat_minor": 4
}
