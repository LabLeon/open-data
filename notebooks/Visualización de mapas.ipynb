{
 "cells": [
  {
   "cell_type": "markdown",
   "metadata": {},
   "source": [
    "# Visualización de mapas\n",
    "\n",
    "A lo largo de este Jupyter Notebook explicaré algunos básicos sobre visualización de datos en Python utilizando mapas. Los tópicos específicos a cubrir en este cuaderno interactivo son los siguientes:\n",
    "\n",
    "> - Cargar una base de datos\n",
    "> - Crear un mapa\n",
    "> - Añadir marcadores a un mapa\n",
    "> - **IMPORTANTE: ¿Qué podemos inferir con los datos?**\n",
    "\n",
    "## Cargar una base de datos\n",
    "\n",
    "Para cargar una base de datos podemos utilizar Pandas como hicimos antes.\n",
    "\n",
    "#### Ejercicio:\n",
    "\n",
    "Cargar la base de datos sobre puntos de conectividad utilizando Pandas."
   ]
  },
  {
   "cell_type": "code",
   "execution_count": null,
   "metadata": {},
   "outputs": [],
   "source": [
    "# TODO.\n",
    "# Usar la función .read_excel() de Pandas para cargar datos\n"
   ]
  },
  {
   "cell_type": "code",
   "execution_count": null,
   "metadata": {},
   "outputs": [],
   "source": [
    "# TODO.\n",
    "# Imprime completa la base de datos\n"
   ]
  },
  {
   "cell_type": "code",
   "execution_count": null,
   "metadata": {},
   "outputs": [],
   "source": [
    "# TODO.\n",
    "# Crea una lista que contenga las latitudes y longitudes\n",
    "lat_long = ???"
   ]
  },
  {
   "cell_type": "code",
   "execution_count": null,
   "metadata": {},
   "outputs": [],
   "source": [
    "# TODO.\n",
    "# Crea una lista que contenga los puntos de conexión\n",
    "etiquetas = ???"
   ]
  },
  {
   "cell_type": "code",
   "execution_count": null,
   "metadata": {},
   "outputs": [],
   "source": [
    "# TODO.\n",
    "# Crea una lista que contenga las cantidades de población\n",
    "poblacion = ???"
   ]
  },
  {
   "cell_type": "markdown",
   "metadata": {},
   "source": [
    "## Crear un mapa\n",
    "\n",
    "Hasta ahora, hemos conocido sobre algunos paquetes que hay en Python y que ayudan a manipular y visualizar datos, como Seaborn, Matplotlib o Pandas. Ahora será el turno de utilizar herramientas que nos ayuden a trabajar con mapas, como [Folium](https://python-visualization.github.io/folium/)."
   ]
  },
  {
   "cell_type": "code",
   "execution_count": null,
   "metadata": {},
   "outputs": [],
   "source": [
    "import folium"
   ]
  },
  {
   "cell_type": "markdown",
   "metadata": {},
   "source": [
    "Para crear un mapa, basta crear un objeto `Map()` especificando los argumentos necesarios para dar una vista en un punto específico.\n",
    "\n",
    "El primer elemento que definiremos será la ubicación, con el argumento `location`.\n",
    "\n",
    "Para asignar una locación de origen, utilizaremos georreferencias de latitud y longitud. De Google Maps podemos obtener una latitud y longitud iniciales deseados, por ejemplo del Arco de la Calzada tenemos `(21.1191877,-101.6737528)`.\n",
    "\n",
    "Referencia: https://goo.gl/maps/RCmf5qoJX4bm5Sbo7\n",
    "\n",
    "El segundo elemento que definiremos será el zoom inicial al mapa, con el argumento `zoom_start`."
   ]
  },
  {
   "cell_type": "code",
   "execution_count": null,
   "metadata": {},
   "outputs": [],
   "source": [
    "mapa_leon = folium.Map(\n",
    "                location=[21.1191877,-101.6737528],\n",
    "                zoom_start=13\n",
    "            )"
   ]
  },
  {
   "cell_type": "markdown",
   "metadata": {},
   "source": [
    "Para visualizar el mapa una vez creado, sólo basta llamar a la variable que contiene al mapa:"
   ]
  },
  {
   "cell_type": "code",
   "execution_count": null,
   "metadata": {},
   "outputs": [],
   "source": [
    "mapa_leon"
   ]
  },
  {
   "cell_type": "markdown",
   "metadata": {},
   "source": [
    "#### Ejercicio:\n",
    "\n",
    "Juega con la latitud y longitud encontrada en Google Maps, así como el zoom inicial para obtener una vista adecuada de la ciudad."
   ]
  },
  {
   "cell_type": "code",
   "execution_count": null,
   "metadata": {},
   "outputs": [],
   "source": [
    "# TODO.\n",
    "# Varía los parámetros para obtener una vista adecuada del mapa\n"
   ]
  },
  {
   "cell_type": "markdown",
   "metadata": {},
   "source": [
    "Un parámetro muy interesante por variar, lo que nos permitirá trabajar con estilos gráficos muy distintos dentro de un mapa, es la variable `tiles`, teniendo las opciones:\n",
    "\n",
    "- `OpenStreetMap`\n",
    "- `Stamen` (`Terrain`, `Toner` y `Watercolor`)\n",
    "- `CartoDB` (`positron` y `dark_matter`)\n",
    "\n",
    "Así podemos redefinir el mapa y variar los estilos del mapa:"
   ]
  },
  {
   "cell_type": "code",
   "execution_count": null,
   "metadata": {},
   "outputs": [],
   "source": [
    "mapa_leon = folium.Map(\n",
    "                location=[21.1191877,-101.6737528],\n",
    "                zoom_start=13,\n",
    "                tiles='Stamen Watercolor'\n",
    "            )"
   ]
  },
  {
   "cell_type": "code",
   "execution_count": null,
   "metadata": {},
   "outputs": [],
   "source": [
    "mapa_leon"
   ]
  },
  {
   "cell_type": "markdown",
   "metadata": {},
   "source": [
    "## Añadir marcadores a un mapa\n",
    "\n",
    "Para añadir marcadores a un mapa, basta crear un objeto `Marker` de Folium. Éste cuenta con argumentos que permiten personalizar el estilo del marcador, como:\n",
    "\n",
    "- `location=[45.3300, -121.6823],`\n",
    "- `popup='Some Other Location',`\n",
    "- `icon=folium.Icon(color='red', icon='info-sign')`\n",
    "\n",
    "Puedes leer más en la documentación sobre los marcadores: <https://python-visualization.github.io/folium/modules.html>\n",
    "\n",
    "Y sobre los posibles íconos a utilizar: <https://fontawesome.com/icons>"
   ]
  },
  {
   "cell_type": "code",
   "execution_count": null,
   "metadata": {},
   "outputs": [],
   "source": [
    "for i in range(len(etiquetas)):\n",
    "    folium.Marker(lat_long[i],\n",
    "                  popup=f\"Población beneficiada: {poblacion[i][0]} personas\",\n",
    "                  tooltip=etiquetas[i][0],\n",
    "                  icon=folium.Icon(color='cadetblue', prefix='fa', icon='wifi')\n",
    "                 ).add_to(mapa_leon)"
   ]
  },
  {
   "cell_type": "code",
   "execution_count": null,
   "metadata": {},
   "outputs": [],
   "source": [
    "mapa_leon"
   ]
  },
  {
   "cell_type": "markdown",
   "metadata": {},
   "source": [
    "## ¿Qué podemos inferir con los datos?\n",
    "\n",
    "Primero, ya que tenemos un pequeño análisis descriptivo, así como una visualización georeferenciada, podemos realizar una visualización más que resulte útil, con una visualización dinámica sobre la población beneficiada por zona.\n",
    "\n",
    "Primero reiniciamos el mapa:"
   ]
  },
  {
   "cell_type": "code",
   "execution_count": null,
   "metadata": {},
   "outputs": [],
   "source": [
    "mapa_leon = folium.Map(\n",
    "                location=[21.1191877,-101.6737528],\n",
    "                zoom_start=13,\n",
    "                tiles='CartoDB dark_matter'\n",
    "            )"
   ]
  },
  {
   "cell_type": "markdown",
   "metadata": {},
   "source": [
    "Ahora procedemos a crear marcadores de círculo:"
   ]
  },
  {
   "cell_type": "code",
   "execution_count": null,
   "metadata": {},
   "outputs": [],
   "source": [
    "for i in range(len(etiquetas)):\n",
    "    folium.CircleMarker(\n",
    "        location=lat_long[i],\n",
    "        radius=int(poblacion[i][0])//100,\n",
    "        popup=f\"Población beneficiada: {poblacion[i][0]} personas\",\n",
    "        tooltip=etiquetas[i][0],\n",
    "        color='#3186cc',\n",
    "        fill=True,\n",
    "        fill_color='#3186cc'\n",
    "    ).add_to(mapa_leon)"
   ]
  },
  {
   "cell_type": "markdown",
   "metadata": {},
   "source": [
    "Y visualizamos los resultados."
   ]
  },
  {
   "cell_type": "code",
   "execution_count": null,
   "metadata": {},
   "outputs": [],
   "source": [
    "mapa_leon"
   ]
  },
  {
   "cell_type": "markdown",
   "metadata": {},
   "source": [
    "# Sección Experimental: Diagramas de Voronoi\n",
    "\n",
    "Reiniciamos el mapa:"
   ]
  },
  {
   "cell_type": "code",
   "execution_count": null,
   "metadata": {},
   "outputs": [],
   "source": [
    "mapa_leon = folium.Map(\n",
    "                location=[21.1191877,-101.6737528],\n",
    "                zoom_start=13,\n",
    "                tiles='Stamen Toner'\n",
    "            )"
   ]
  },
  {
   "cell_type": "code",
   "execution_count": null,
   "metadata": {},
   "outputs": [],
   "source": [
    "import scipy.spatial as spatial\n",
    "\n",
    "vor = spatial.Voronoi(lat_long)"
   ]
  },
  {
   "cell_type": "code",
   "execution_count": null,
   "metadata": {},
   "outputs": [],
   "source": [
    "vor.vertices"
   ]
  },
  {
   "cell_type": "code",
   "execution_count": null,
   "metadata": {},
   "outputs": [],
   "source": [
    "vor.regions"
   ]
  },
  {
   "cell_type": "code",
   "execution_count": null,
   "metadata": {},
   "outputs": [],
   "source": [
    "polys = []\n",
    "for region in vor.regions:\n",
    "    polys.append([list(vor.vertices[poly_vertex]) for poly_vertex in region])"
   ]
  },
  {
   "cell_type": "code",
   "execution_count": null,
   "metadata": {},
   "outputs": [],
   "source": [
    "polys"
   ]
  },
  {
   "cell_type": "code",
   "execution_count": null,
   "metadata": {},
   "outputs": [],
   "source": [
    "polys.pop(4)\n",
    "polys"
   ]
  },
  {
   "cell_type": "code",
   "execution_count": null,
   "metadata": {},
   "outputs": [],
   "source": [
    "folium.Polygon(\n",
    "    locations=polys,\n",
    "    smooth_factor=2,\n",
    "    color='crimson',\n",
    "    no_clip=True\n",
    ").add_to(mapa_leon)"
   ]
  },
  {
   "cell_type": "code",
   "execution_count": null,
   "metadata": {},
   "outputs": [],
   "source": [
    "mapa_leon"
   ]
  },
  {
   "cell_type": "markdown",
   "metadata": {},
   "source": [
    "### Referencias interesantes:\n",
    "\n",
    "- [Folium: utilizando Leaflet con Python](https://mappinggis.com/2018/10/folium-utilizando-leaflet-con-python/)\n",
    "- [Folium Quickstart](https://python-visualization.github.io/folium/quickstart.html)\n",
    "- [Computing the Voronoi diagram of a set of points](https://ipython-books.github.io/145-computing-the-voronoi-diagram-of-a-set-of-points/)\n",
    "- [scipy.spatial.Voronoi](http://scipy.github.io/devdocs/generated/scipy.spatial.Voronoi.html)"
   ]
  }
 ],
 "metadata": {
  "kernelspec": {
   "display_name": "Python 3",
   "language": "python",
   "name": "python3"
  },
  "language_info": {
   "codemirror_mode": {
    "name": "ipython",
    "version": 3
   },
   "file_extension": ".py",
   "mimetype": "text/x-python",
   "name": "python",
   "nbconvert_exporter": "python",
   "pygments_lexer": "ipython3",
   "version": "3.7.4"
  }
 },
 "nbformat": 4,
 "nbformat_minor": 4
}
